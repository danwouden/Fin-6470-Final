{
 "cells": [
  {
   "cell_type": "code",
   "execution_count": 2,
   "metadata": {
    "collapsed": true
   },
   "outputs": [],
   "source": [
    "import probo"
   ]
  },
  {
   "cell_type": "markdown",
   "metadata": {},
   "source": [
    "**Chapter 12 Questions**\n",
    "\n",
    "• 12.3, 12.4, 12.6, 12.11, 12.14, 12.15"
   ]
  },
  {
   "cell_type": "markdown",
   "metadata": {},
   "source": [
    "**12.3** \n",
    "Let S = $100, K = $120, σ = 30%, r = 0.08, and δ = 0.\n",
    "\n",
    "a. Compute the Black-Scholes call price for 1 year to maturity and for a variety\n",
    "of very long times to maturity. What happens to the option price as T →∞?\n",
    "\n",
    "<span style=\"color:red\">**Answer to Problem 12.3 a.) **</span>\n",
    "\n",
    "**a.) We see below that, as T goes to infinity the value of the option converges to the stock price.**\n"
   ]
  },
  {
   "cell_type": "code",
   "execution_count": 9,
   "metadata": {
    "collapsed": false
   },
   "outputs": [
    {
     "name": "stdout",
     "output_type": "stream",
     "text": [
      "The call price via Black-Scholes is: 7.897\n"
     ]
    }
   ],
   "source": [
    "thedata = probo.MarketData(rate=.08, spot=100, volatility=.3, dividend=0.0)\n",
    "\n",
    "thecall = probo.VanillaPayoff(payoff=probo.call_payoff, strike=120, expiry=1)\n",
    "\n",
    "bsengine = probo.BlackScholesPricingEngine(\"call\", probo.BlackScholesPricer)\n",
    "option3 =  probo.OptionFacade(thecall, bsengine, thedata)\n",
    "price3 = option3.price()\n",
    "print(\"The call price via Black-Scholes is: {0:.3f}\".format(price3))"
   ]
  },
  {
   "cell_type": "code",
   "execution_count": 8,
   "metadata": {
    "collapsed": false
   },
   "outputs": [
    {
     "name": "stdout",
     "output_type": "stream",
     "text": [
      "The call price via Black-Scholes is: 99.963\n"
     ]
    }
   ],
   "source": [
    "thedata = probo.MarketData(rate=.08, spot=100, volatility=.3, dividend=0.0)\n",
    "\n",
    "thecall = probo.VanillaPayoff(payoff=probo.call_payoff, strike=120, expiry=100)\n",
    "\n",
    "bsengine = probo.BlackScholesPricingEngine(\"call\", probo.BlackScholesPricer)\n",
    "option3 =  probo.OptionFacade(thecall, bsengine, thedata)\n",
    "price3 = option3.price()\n",
    "print(\"The call price via Black-Scholes is: {0:.3f}\".format(price3))"
   ]
  },
  {
   "cell_type": "code",
   "execution_count": 10,
   "metadata": {
    "collapsed": false
   },
   "outputs": [
    {
     "name": "stdout",
     "output_type": "stream",
     "text": [
      "The call price via Black-Scholes is: 100.000\n"
     ]
    }
   ],
   "source": [
    "thedata = probo.MarketData(rate=.08, spot=100, volatility=.3, dividend=0.0)\n",
    "\n",
    "thecall = probo.VanillaPayoff(payoff=probo.call_payoff, strike=120, expiry=1000000000)\n",
    "\n",
    "bsengine = probo.BlackScholesPricingEngine(\"call\", probo.BlackScholesPricer)\n",
    "option3 =  probo.OptionFacade(thecall, bsengine, thedata)\n",
    "price3 = option3.price()\n",
    "print(\"The call price via Black-Scholes is: {0:.3f}\".format(price3))"
   ]
  },
  {
   "cell_type": "markdown",
   "metadata": {},
   "source": [
    "b. Set δ = 0.001. Repeat (a). Now what happens to the option price? What\n",
    "accounts for the difference?\n",
    "\n",
    "<span style=\"color:red\">**Answer to Problem 12.3 b.) **</span>\n",
    "\n",
    "**b.) We see below that as T increases the call price increases. After a certain point in time, the option price starts to decrease. Note: The call option price never reaches the stock price.**"
   ]
  },
  {
   "cell_type": "code",
   "execution_count": 12,
   "metadata": {
    "collapsed": false
   },
   "outputs": [
    {
     "name": "stdout",
     "output_type": "stream",
     "text": [
      "The call price via Black-Scholes is: 7.854\n"
     ]
    }
   ],
   "source": [
    "thedata = probo.MarketData(rate=.08, spot=100, volatility=.3, dividend=0.001)\n",
    "\n",
    "thecall = probo.VanillaPayoff(payoff=probo.call_payoff, strike=120, expiry=1)\n",
    "\n",
    "bsengine = probo.BlackScholesPricingEngine(\"call\", probo.BlackScholesPricer)\n",
    "option3 =  probo.OptionFacade(thecall, bsengine, thedata)\n",
    "price3 = option3.price()\n",
    "print(\"The call price via Black-Scholes is: {0:.3f}\".format(price3))"
   ]
  },
  {
   "cell_type": "code",
   "execution_count": 13,
   "metadata": {
    "collapsed": false
   },
   "outputs": [
    {
     "name": "stdout",
     "output_type": "stream",
     "text": [
      "The call price via Black-Scholes is: 90.447\n"
     ]
    }
   ],
   "source": [
    "thedata = probo.MarketData(rate=.08, spot=100, volatility=.3, dividend=0.001)\n",
    "\n",
    "thecall = probo.VanillaPayoff(payoff=probo.call_payoff, strike=120, expiry=100)\n",
    "\n",
    "bsengine = probo.BlackScholesPricingEngine(\"call\", probo.BlackScholesPricer)\n",
    "option3 =  probo.OptionFacade(thecall, bsengine, thedata)\n",
    "price3 = option3.price()\n",
    "print(\"The call price via Black-Scholes is: {0:.3f}\".format(price3))"
   ]
  },
  {
   "cell_type": "code",
   "execution_count": 15,
   "metadata": {
    "collapsed": false
   },
   "outputs": [
    {
     "name": "stdout",
     "output_type": "stream",
     "text": [
      "The call price via Black-Scholes is: 36.788\n"
     ]
    }
   ],
   "source": [
    "thedata = probo.MarketData(rate=.08, spot=100, volatility=.3, dividend=0.001)\n",
    "\n",
    "thecall = probo.VanillaPayoff(payoff=probo.call_payoff, strike=120, expiry=1000)\n",
    "\n",
    "bsengine = probo.BlackScholesPricingEngine(\"call\", probo.BlackScholesPricer)\n",
    "option3 =  probo.OptionFacade(thecall, bsengine, thedata)\n",
    "price3 = option3.price()\n",
    "print(\"The call price via Black-Scholes is: {0:.3f}\".format(price3))"
   ]
  },
  {
   "cell_type": "markdown",
   "metadata": {},
   "source": [
    "**12.4** \n",
    "\n",
    "Let S = $120, K = $100, σ = 30%, r = 0, and δ = 0.08.\n",
    "\n",
    "a. Compute the Black-Scholes call price for 1 year to maturity and for a variety\n",
    "of very long times to maturity. What happens to the price as T →∞?\n",
    "\n",
    "<span style=\"color:red\">**Answer to Problem 12.4 a.) **</span>\n",
    "\n",
    "**a.) We see below that, as T goes to infinity the value of the option converges to zero.**"
   ]
  },
  {
   "cell_type": "code",
   "execution_count": 23,
   "metadata": {
    "collapsed": false
   },
   "outputs": [
    {
     "name": "stdout",
     "output_type": "stream",
     "text": [
      "The call price via Black-Scholes is: 18.671\n"
     ]
    }
   ],
   "source": [
    "thedata = probo.MarketData(rate=0, spot=120, volatility=.3, dividend=0.08)\n",
    "\n",
    "thecall = probo.VanillaPayoff(payoff=probo.call_payoff, strike=100, expiry=1)\n",
    "\n",
    "bsengine = probo.BlackScholesPricingEngine(\"call\", probo.BlackScholesPricer)\n",
    "option3 =  probo.OptionFacade(thecall, bsengine, thedata)\n",
    "price3 = option3.price()\n",
    "print(\"The call price via Black-Scholes is: {0:.3f}\".format(price3))"
   ]
  },
  {
   "cell_type": "code",
   "execution_count": 26,
   "metadata": {
    "collapsed": false
   },
   "outputs": [
    {
     "name": "stdout",
     "output_type": "stream",
     "text": [
      "The call price via Black-Scholes is: 0.003\n"
     ]
    }
   ],
   "source": [
    "thedata = probo.MarketData(rate=0, spot=120, volatility=.3, dividend=0.08)\n",
    "\n",
    "thecall = probo.VanillaPayoff(payoff=probo.call_payoff, strike=100, expiry=100)\n",
    "\n",
    "bsengine = probo.BlackScholesPricingEngine(\"call\", probo.BlackScholesPricer)\n",
    "option3 =  probo.OptionFacade(thecall, bsengine, thedata)\n",
    "price3 = option3.price()\n",
    "print(\"The call price via Black-Scholes is: {0:.3f}\".format(price3))"
   ]
  },
  {
   "cell_type": "code",
   "execution_count": 27,
   "metadata": {
    "collapsed": false
   },
   "outputs": [
    {
     "name": "stdout",
     "output_type": "stream",
     "text": [
      "The call price via Black-Scholes is: 0.000\n"
     ]
    }
   ],
   "source": [
    "thedata = probo.MarketData(rate=0, spot=120, volatility=.3, dividend=0.08)\n",
    "\n",
    "thecall = probo.VanillaPayoff(payoff=probo.call_payoff, strike=100, expiry=1000)\n",
    "\n",
    "bsengine = probo.BlackScholesPricingEngine(\"call\", probo.BlackScholesPricer)\n",
    "option3 =  probo.OptionFacade(thecall, bsengine, thedata)\n",
    "price3 = option3.price()\n",
    "print(\"The call price via Black-Scholes is: {0:.3f}\".format(price3))"
   ]
  },
  {
   "cell_type": "markdown",
   "metadata": {},
   "source": [
    "b. Set r = 0.001. Repeat (a). Now what happens? What accounts for the difference?\n",
    "\n",
    "<span style=\"color:red\">**Answer to Problem 12.4 b.) **</span>\n",
    "\n",
    "**b.) We see below that, as T goes to infinity the value of the option converges to zero. Note that it doesn't converge to zero as the previous, a.) did.**"
   ]
  },
  {
   "cell_type": "code",
   "execution_count": 29,
   "metadata": {
    "collapsed": false
   },
   "outputs": [
    {
     "name": "stdout",
     "output_type": "stream",
     "text": [
      "The call price via Black-Scholes is: 18.728\n"
     ]
    }
   ],
   "source": [
    "thedata = probo.MarketData(rate=.001, spot=120, volatility=.3, dividend=0.08)\n",
    "\n",
    "thecall = probo.VanillaPayoff(payoff=probo.call_payoff, strike=100, expiry=1)\n",
    "\n",
    "bsengine = probo.BlackScholesPricingEngine(\"call\", probo.BlackScholesPricer)\n",
    "option3 =  probo.OptionFacade(thecall, bsengine, thedata)\n",
    "price3 = option3.price()\n",
    "print(\"The call price via Black-Scholes is: {0:.3f}\".format(price3))"
   ]
  },
  {
   "cell_type": "code",
   "execution_count": 30,
   "metadata": {
    "collapsed": false
   },
   "outputs": [
    {
     "name": "stdout",
     "output_type": "stream",
     "text": [
      "The call price via Black-Scholes is: 0.004\n"
     ]
    }
   ],
   "source": [
    "thedata = probo.MarketData(rate=.001, spot=120, volatility=.3, dividend=0.08)\n",
    "\n",
    "thecall = probo.VanillaPayoff(payoff=probo.call_payoff, strike=100, expiry=100)\n",
    "\n",
    "bsengine = probo.BlackScholesPricingEngine(\"call\", probo.BlackScholesPricer)\n",
    "option3 =  probo.OptionFacade(thecall, bsengine, thedata)\n",
    "price3 = option3.price()\n",
    "print(\"The call price via Black-Scholes is: {0:.3f}\".format(price3))"
   ]
  },
  {
   "cell_type": "code",
   "execution_count": 33,
   "metadata": {
    "collapsed": false
   },
   "outputs": [
    {
     "name": "stdout",
     "output_type": "stream",
     "text": [
      "The call price via Black-Scholes is: 0.000\n"
     ]
    }
   ],
   "source": [
    "thedata = probo.MarketData(rate=.001, spot=120, volatility=.3, dividend=0.08)\n",
    "\n",
    "thecall = probo.VanillaPayoff(payoff=probo.call_payoff, strike=100, expiry=1000)\n",
    "\n",
    "bsengine = probo.BlackScholesPricingEngine(\"call\", probo.BlackScholesPricer)\n",
    "option3 =  probo.OptionFacade(thecall, bsengine, thedata)\n",
    "price3 = option3.price()\n",
    "print(\"The call price via Black-Scholes is: {0:.3f}\".format(price3))"
   ]
  },
  {
   "cell_type": "markdown",
   "metadata": {},
   "source": [
    "**12.6** \n",
    "\n",
    "Suppose XYZ is a non-dividend-paying stock. Suppose S = $\\$100$, σ = 40$\\%$, δ = 0,\n",
    "and r = 0.06.\n",
    "\n",
    "a. What is the price of a 105-strike call option with 1 year to expiration?\n",
    "\n",
    "<span style=\"color:red\">**Answer to Problem 12.6 a.) **</span>\n",
    "\n",
    "a.) Please see below"
   ]
  },
  {
   "cell_type": "code",
   "execution_count": 32,
   "metadata": {
    "collapsed": false
   },
   "outputs": [
    {
     "name": "stdout",
     "output_type": "stream",
     "text": [
      "The call price via Black-Scholes is: 16.327\n"
     ]
    }
   ],
   "source": [
    "thedata = probo.MarketData(rate=.06, spot=100, volatility=.4, dividend=0)\n",
    "\n",
    "thecall = probo.VanillaPayoff(payoff=probo.call_payoff, strike=105, expiry=1)\n",
    "\n",
    "bsengine = probo.BlackScholesPricingEngine(\"call\", probo.BlackScholesPricer)\n",
    "option3 =  probo.OptionFacade(thecall, bsengine, thedata)\n",
    "price3 = option3.price()\n",
    "print(\"The call price via Black-Scholes is: {0:.3f}\".format(price3))"
   ]
  },
  {
   "cell_type": "markdown",
   "metadata": {},
   "source": [
    "b. What is the 1-year forward price for the stock?\n",
    "\n",
    "<span style=\"color:red\">**Answer to Problem 12.6 b.) **</span>\n",
    "\n",
    "b.) Please see below"
   ]
  },
  {
   "cell_type": "code",
   "execution_count": 35,
   "metadata": {
    "collapsed": false
   },
   "outputs": [
    {
     "data": {
      "text/plain": [
       "106.18365465453596"
      ]
     },
     "execution_count": 35,
     "metadata": {},
     "output_type": "execute_result"
    }
   ],
   "source": [
    "import numpy as np\n",
    "\n",
    "spot=100\n",
    "rate=0.06\n",
    "dividend=0\n",
    "expiry= 1\n",
    "\n",
    "price=spot*np.exp((rate-dividend)*expiry)\n",
    "price"
   ]
  },
  {
   "cell_type": "markdown",
   "metadata": {},
   "source": [
    "c. What is the price of a 1-year 105-strike option, where the underlying asset is\n",
    "a futures contract maturing at the same time as the option?\n",
    "\n",
    "<span style=\"color:red\">**Answer to Problem 12.6 c.) **</span>\n",
    "\n",
    "c.) Please see below."
   ]
  },
  {
   "cell_type": "code",
   "execution_count": 36,
   "metadata": {
    "collapsed": false
   },
   "outputs": [
    {
     "name": "stdout",
     "output_type": "stream",
     "text": [
      "The call price via Black-Scholes is: 20.156\n"
     ]
    }
   ],
   "source": [
    "thedata = probo.MarketData(rate=.06, spot=106.183654, volatility=.4, dividend=0)\n",
    "\n",
    "thecall = probo.VanillaPayoff(payoff=probo.call_payoff, strike=105, expiry=1)\n",
    "\n",
    "bsengine = probo.BlackScholesPricingEngine(\"call\", probo.BlackScholesPricer)\n",
    "option3 =  probo.OptionFacade(thecall, bsengine, thedata)\n",
    "price3 = option3.price()\n",
    "print(\"The call price via Black-Scholes is: {0:.3f}\".format(price3))"
   ]
  },
  {
   "cell_type": "markdown",
   "metadata": {},
   "source": [
    "**12.11** \n",
    "\n",
    "In the absence of an explicit formula, we can estimate the change in the option price\n",
    "due to a change in an input—such as σ—by computing the following for a small\n",
    "value of:\n",
    "\n",
    "Vega = [BSCall(S, K, σ + , r , t , δ) − BSCall(S, K, σ − , r , t , δ)]/ 2 $\\epsilon$\n",
    "\n",
    "a. What is the logic behind this calculation? Why does $\\epsilon$ need to be small?\n",
    " \n",
    "<span style=\"color:red\">**Answer to Problem 12.11 a.) **</span>\n",
    "\n",
    "**a.) This is just a linear estimation, vega is a one percent change in volatility.**\n"
   ]
  },
  {
   "cell_type": "code",
   "execution_count": 80,
   "metadata": {
    "collapsed": false
   },
   "outputs": [
    {
     "name": "stdout",
     "output_type": "stream",
     "text": [
      "The call price via Black-Scholes is: 9.935\n"
     ]
    }
   ],
   "source": [
    "thedata = probo.MarketData(rate=.08, spot=45, volatility=.3, dividend=0)\n",
    "\n",
    "thecall = probo.VanillaPayoff(payoff=probo.call_payoff, strike=40, expiry=1)\n",
    "\n",
    "bsengine = probo.BlackScholesPricingEngine(\"call\", probo.BlackScholesPricer)\n",
    "option3 =  probo.OptionFacade(thecall, bsengine, thedata)\n",
    "price3 = option3.price()\n",
    "print(\"The call price via Black-Scholes is: {0:.3f}\".format(price3))"
   ]
  },
  {
   "cell_type": "code",
   "execution_count": 81,
   "metadata": {
    "collapsed": false
   },
   "outputs": [
    {
     "name": "stdout",
     "output_type": "stream",
     "text": [
      "The call price via Black-Scholes is: 10.065\n"
     ]
    }
   ],
   "source": [
    "thedata = probo.MarketData(rate=.08, spot=45, volatility=.31, dividend=0)\n",
    "\n",
    "thecall = probo.VanillaPayoff(payoff=probo.call_payoff, strike=40, expiry=1)\n",
    "\n",
    "bsengine = probo.BlackScholesPricingEngine(\"call\", probo.BlackScholesPricer)\n",
    "option3 =  probo.OptionFacade(thecall, bsengine, thedata)\n",
    "price3 = option3.price()\n",
    "print(\"The call price via Black-Scholes is: {0:.3f}\".format(price3))"
   ]
  },
  {
   "cell_type": "code",
   "execution_count": 84,
   "metadata": {
    "collapsed": false
   },
   "outputs": [
    {
     "data": {
      "text/plain": [
       "0.129999999999999"
      ]
     },
     "execution_count": 84,
     "metadata": {},
     "output_type": "execute_result"
    }
   ],
   "source": [
    "10.065-9.935"
   ]
  },
  {
   "cell_type": "code",
   "execution_count": 88,
   "metadata": {
    "collapsed": false
   },
   "outputs": [
    {
     "data": {
      "text/plain": [
       "12.99999"
      ]
     },
     "execution_count": 88,
     "metadata": {},
     "output_type": "execute_result"
    }
   ],
   "source": [
    ".1299999/.01"
   ]
  },
  {
   "cell_type": "markdown",
   "metadata": {},
   "source": [
    "b. Compare the results of this calculation with results obtained from\n",
    "BSCallVega.\n",
    "\n",
    "<span style=\"color:red\">**Answer to Problem 12.11 b.) **</span>\n",
    "\n",
    "**b.) As we see, the vegas are very close, 12.999, 12.9391**"
   ]
  },
  {
   "cell_type": "code",
   "execution_count": 89,
   "metadata": {
    "collapsed": false
   },
   "outputs": [
    {
     "name": "stdout",
     "output_type": "stream",
     "text": [
      "(0.79082202191399165, 0.02129905280635222, -3.9930624470255931, 12.939174579858973, 25.652328250584336)\n"
     ]
    }
   ],
   "source": [
    "from scipy.stats import norm\n",
    "from math import *\n",
    "\n",
    "def Black_Scholes_Greeks_Call(S, K, r, v, T, d):\n",
    "    T_sqrt = sqrt(T)\n",
    "    d1 = (log(float(S)/K)+((r-d)+v*v/2.)*T)/(v*T_sqrt)\n",
    "    d2 = d1-v*T_sqrt\n",
    "    Delta = norm.cdf(d1)\n",
    "    Gamma = norm.pdf(d1)/(S*v*T_sqrt)\n",
    "    Theta =- (S*v*norm.pdf(d1))/(2*T_sqrt) - r*K*exp( -r*T)*norm.cdf(d2)\n",
    "    Vega = S * T_sqrt*norm.pdf(d1)\n",
    "    Rho = K*T*exp(-r*T)*norm.cdf(d2)\n",
    "    return Delta, Gamma, Theta, Vega, Rho\n",
    "\n",
    "print (Black_Scholes_Greeks_Call(45, 40, 0.08, 0.3, 1, 0))\n",
    "\n",
    "#Delta: partial wrt S\n",
    "#Gamma: second partial wrt S\n",
    "#Theta: partial wrt T\n",
    "#Vega: partial wrt v\n",
    "#Rho: partial wrt r"
   ]
  },
  {
   "cell_type": "markdown",
   "metadata": {},
   "source": [
    "**12.14** \n",
    "\n",
    "Consider a bull spread where you buy a 40-strike call and sell a 45-strike call.\n",
    "Suppose σ = 0.30, r = 0.08, δ = 0, and T = 0.5.\n",
    "\n",
    "a. Suppose S = $\\$40$. What are delta, gamma, vega, theta, and rho?\n",
    " \n",
    "<span style=\"color:red\">**Answer to Problem 12.14 a.) **</span>\n",
    "\n",
    "a.) Please see below"
   ]
  },
  {
   "cell_type": "code",
   "execution_count": 37,
   "metadata": {
    "collapsed": false
   },
   "outputs": [
    {
     "name": "stdout",
     "output_type": "stream",
     "text": [
      "The call price via Black-Scholes is: 4.155\n"
     ]
    }
   ],
   "source": [
    "thedata = probo.MarketData(rate=.08, spot=40.0, volatility=.3, dividend=0)\n",
    "\n",
    "thecall = probo.VanillaPayoff(payoff=probo.call_payoff, strike=40, expiry=0.5)\n",
    "\n",
    "bsengine = probo.BlackScholesPricingEngine(\"call\", probo.BlackScholesPricer)\n",
    "option3 =  probo.OptionFacade(thecall, bsengine, thedata)\n",
    "price3 = option3.price()\n",
    "print(\"The call price via Black-Scholes is: {0:.3f}\".format(price3))"
   ]
  },
  {
   "cell_type": "code",
   "execution_count": 46,
   "metadata": {
    "collapsed": false
   },
   "outputs": [
    {
     "name": "stdout",
     "output_type": "stream",
     "text": [
      "(0.66153888048931031, 0.0304810305345002, -3.8087966145172327, 14.630894656560097, 20.177030200415224)\n"
     ]
    }
   ],
   "source": [
    "from scipy.stats import norm\n",
    "from math import *\n",
    "\n",
    "def Black_Scholes_Greeks_Call(S, K, r, v, T, d):\n",
    "    T_sqrt = sqrt(T)\n",
    "    d1 = (log(float(S)/K)+((r-d)+v*v/2.)*T)/(v*T_sqrt)\n",
    "    d2 = d1-v*T_sqrt\n",
    "    Delta = norm.cdf(d1)\n",
    "    Gamma = norm.pdf(d1)/(S*v*T_sqrt)\n",
    "    Theta =- (S*v*norm.pdf(d1))/(2*T_sqrt) - r*K*exp( -r*T)*norm.cdf(d2)\n",
    "    Vega = S * T_sqrt*norm.pdf(d1)\n",
    "    Rho = K*T*exp(-r*T)*norm.cdf(d2)\n",
    "    return Delta, Gamma, Theta, Vega, Rho\n",
    "\n",
    "print (Black_Scholes_Greeks_Call(40, 40, 0.08, 0.3, 1, 0))\n",
    "\n",
    "#Delta: partial wrt S\n",
    "#Gamma: second partial wrt S\n",
    "#Theta: partial wrt T\n",
    "#Vega: partial wrt v\n",
    "#Rho: partial wrt r"
   ]
  },
  {
   "cell_type": "markdown",
   "metadata": {},
   "source": [
    "b. Suppose S = $\\$45$. What are delta, gamma, vega, theta, and rho?\n",
    "\n",
    "<span style=\"color:red\">**Answer to Problem 12.14 b.) **</span>\n",
    "\n",
    "b.) Please see below"
   ]
  },
  {
   "cell_type": "code",
   "execution_count": 38,
   "metadata": {
    "collapsed": false
   },
   "outputs": [
    {
     "name": "stdout",
     "output_type": "stream",
     "text": [
      "The call price via Black-Scholes is: 2.130\n"
     ]
    }
   ],
   "source": [
    "thedata = probo.MarketData(rate=.08, spot=40.0, volatility=.3, dividend=0)\n",
    "\n",
    "thecall = probo.VanillaPayoff(payoff=probo.call_payoff, strike=45, expiry=0.5)\n",
    "\n",
    "bsengine = probo.BlackScholesPricingEngine(\"call\", probo.BlackScholesPricer)\n",
    "option3 =  probo.OptionFacade(thecall, bsengine, thedata)\n",
    "price3 = option3.price()\n",
    "print(\"The call price via Black-Scholes is: {0:.3f}\".format(price3))"
   ]
  },
  {
   "cell_type": "code",
   "execution_count": 45,
   "metadata": {
    "collapsed": false
   },
   "outputs": [
    {
     "name": "stdout",
     "output_type": "stream",
     "text": [
      "(0.50959624844766105, 0.03323557163859403, -3.6933225675233516, 15.953074386525135, 16.254517619307268)\n"
     ]
    }
   ],
   "source": [
    "from scipy.stats import norm\n",
    "from math import *\n",
    "\n",
    "def Black_Scholes_Greeks_Call(S, K, r, v, T, d):\n",
    "    T_sqrt = sqrt(T)\n",
    "    d1 = (log(float(S)/K)+((r-d)+v*v/2.)*T)/(v*T_sqrt)\n",
    "    d2 = d1-v*T_sqrt\n",
    "    Delta = norm.cdf(d1)\n",
    "    Gamma = norm.pdf(d1)/(S*v*T_sqrt)\n",
    "    Theta =- (S*v*norm.pdf(d1))/(2*T_sqrt) - r*K*exp( -r*T)*norm.cdf(d2)\n",
    "    Vega = S * T_sqrt*norm.pdf(d1)\n",
    "    Rho = K*T*exp(-r*T)*norm.cdf(d2)\n",
    "    return Delta, Gamma, Theta, Vega, Rho\n",
    "\n",
    "print (Black_Scholes_Greeks_Call(40, 45, 0.08, 0.3, 1, 0))\n",
    "\n",
    "#Delta: partial wrt S\n",
    "#Gamma: second partial wrt S\n",
    "#Theta: partial wrt T\n",
    "#Vega: partial wrt v\n",
    "#Rho: partial wrt r"
   ]
  },
  {
   "cell_type": "markdown",
   "metadata": {},
   "source": [
    "c. Are any of your answers to (a) and (b) different? If so, why?\n",
    "\n",
    "<span style=\"color:red\">**Answer to Problem 12.14 c.) **</span>\n",
    "\n",
    "**c.) Yes, the answers to (a) and (b) are different. The value of a call option increases as the stock prices increases. Almost all the greeks depend on the change in the price of the call option. That is why $\\$45$ option is cheaper compared to the $\\$40$.**"
   ]
  },
  {
   "cell_type": "markdown",
   "metadata": {},
   "source": [
    "**12.15** \n",
    "\n",
    "Consider a bull spread where you buy a 40-strike put and sell a 45-strike put. Suppose\n",
    "σ = 0.30, r = 0.08, δ = 0, and T = 0.5.\n",
    "\n",
    "a. Suppose S = $\\$40$. What are delta, gamma, vega, theta, and rho?\n",
    "\n",
    "<span style=\"color:red\">**Answer to Problem 12.15 a.) **</span>\n",
    "\n",
    "a.) Please see below"
   ]
  },
  {
   "cell_type": "code",
   "execution_count": 55,
   "metadata": {
    "collapsed": false
   },
   "outputs": [
    {
     "name": "stdout",
     "output_type": "stream",
     "text": [
      "The put price via Black-Scholes is: 2.587\n"
     ]
    }
   ],
   "source": [
    "thedata = probo.MarketData(rate=.08, spot=40.0, volatility=.3, dividend=0)\n",
    "\n",
    "theput = probo.VanillaPayoff(payoff=probo.put_payoff, strike=40, expiry=0.5)\n",
    "\n",
    "bsengine = probo.BlackScholesPricingEngine(\"put\", probo.BlackScholesPricer)\n",
    "option3 =  probo.OptionFacade(theput, bsengine, thedata)\n",
    "price3 = option3.price()\n",
    "print(\"The put price via Black-Scholes is: {0:.3f}\".format(price3))"
   ]
  },
  {
   "cell_type": "code",
   "execution_count": 50,
   "metadata": {
    "collapsed": false
   },
   "outputs": [
    {
     "name": "stdout",
     "output_type": "stream",
     "text": [
      "(-0.38413910177291699, 0.045018832782179816, -1.8051641171443609, 10.804519867723156, -8.9761990198286625)\n"
     ]
    }
   ],
   "source": [
    "from scipy.stats import norm\n",
    "from math import *\n",
    "\n",
    "def Black_Scholes_Greeks_Put(S, K, r, v, T, d):\n",
    "    T_sqrt = sqrt(T)\n",
    "    d1 = (log(float(S)/K)+r*T)/(v*T_sqrt) + 0.5*v*T_sqrt\n",
    "    d2 = d1-(v*T_sqrt)\n",
    "    Delta = -norm.cdf(-d1)\n",
    "    Gamma = norm.pdf(d1)/(S*v*T_sqrt)\n",
    "    Theta = -(S*v*norm.pdf(d1)) / (2*T_sqrt)+ r*K * exp(-r*T) * norm.cdf(-d2)\n",
    "    Vega = S * T_sqrt * norm.pdf(d1)\n",
    "    Rho = -K*T*exp(-r*T) * norm.cdf(-d2)\n",
    "    return Delta, Gamma, Theta, Vega, Rho\n",
    "\n",
    "print (Black_Scholes_Greeks_Put(40, 40, 0.08, 0.3, 0.5, 0))\n",
    "#Delta: partial wrt S\n",
    "#Gamma: second partial wrt S\n",
    "#Theta: partial wrt T\n",
    "#Vega: partial wrt v\n",
    "#Rho: partial wrt r"
   ]
  },
  {
   "cell_type": "markdown",
   "metadata": {},
   "source": [
    "b. Suppose S = $\\$45$. What are delta, gamma, vega, theta, and rho?\n",
    "\n",
    "<span style=\"color:red\">**Answer to Problem 12.15 b.) **</span>\n",
    "\n",
    "b.) Please see below"
   ]
  },
  {
   "cell_type": "code",
   "execution_count": 56,
   "metadata": {
    "collapsed": false
   },
   "outputs": [
    {
     "name": "stdout",
     "output_type": "stream",
     "text": [
      "The put price via Black-Scholes is: 5.366\n"
     ]
    }
   ],
   "source": [
    "thedata = probo.MarketData(rate=.08, spot=40.0, volatility=.3, dividend=0)\n",
    "\n",
    "theput = probo.VanillaPayoff(payoff=probo.put_payoff, strike=45, expiry=0.5)\n",
    "\n",
    "bsengine = probo.BlackScholesPricingEngine(\"put\", probo.BlackScholesPricer)\n",
    "option3 =  probo.OptionFacade(theput, bsengine, thedata)\n",
    "price3 = option3.price()\n",
    "print(\"The put price via Black-Scholes is: {0:.3f}\".format(price3))"
   ]
  },
  {
   "cell_type": "code",
   "execution_count": 52,
   "metadata": {
    "collapsed": false
   },
   "outputs": [
    {
     "name": "stdout",
     "output_type": "stream",
     "text": [
      "(-0.60280210013752822, 0.045446042930028623, -0.91387588010157517, 10.907050303206871, -14.738995067878035)\n"
     ]
    }
   ],
   "source": [
    "from scipy.stats import norm\n",
    "from math import *\n",
    "\n",
    "def Black_Scholes_Greeks_Put(S, K, r, v, T, d):\n",
    "    T_sqrt = sqrt(T)\n",
    "    d1 = (log(float(S)/K)+r*T)/(v*T_sqrt) + 0.5*v*T_sqrt\n",
    "    d2 = d1-(v*T_sqrt)\n",
    "    Delta = -norm.cdf(-d1)\n",
    "    Gamma = norm.pdf(d1)/(S*v*T_sqrt)\n",
    "    Theta = -(S*v*norm.pdf(d1)) / (2*T_sqrt)+ r*K * exp(-r*T) * norm.cdf(-d2)\n",
    "    Vega = S * T_sqrt * norm.pdf(d1)\n",
    "    Rho = -K*T*exp(-r*T) * norm.cdf(-d2)\n",
    "    return Delta, Gamma, Theta, Vega, Rho\n",
    "\n",
    "print (Black_Scholes_Greeks_Put(40, 45, 0.08, 0.3, 0.5, 0))\n",
    "#Delta: partial wrt S\n",
    "#Gamma: second partial wrt S\n",
    "#Theta: partial wrt T\n",
    "#Vega: partial wrt v\n",
    "#Rho: partial wrt r"
   ]
  },
  {
   "cell_type": "markdown",
   "metadata": {},
   "source": [
    "c. Are any of your answers to (a) and (b) different? If so, why?\n",
    "\n",
    "<span style=\"color:red\">**Answer to Problem 12.15 c.) **</span>\n",
    "\n",
    "**c.)Yes, the answers to (a) and (b) are different. The value of a put option increases as the stock prices increases. Almost all the greeks depend on the change in the price of the put option. That is why $\\$45$ option is worth more compared to the $\\$40$.**"
   ]
  },
  {
   "cell_type": "markdown",
   "metadata": {},
   "source": [
    "d. Are any of your answers different in this problem from those in Problem\n",
    "12.14? If so, why?\n",
    "\n",
    "<span style=\"color:red\">**Answer to Problem 12.15 d.) **</span>\n",
    "\n",
    "**d.) Gamma and Vega are not option dependent. The value of Theta and Rho change since they are option dependent.**\n",
    "\n",
    "Looking at put call parity we see that: $delta_c-1=delta_p$\n",
    "\n",
    "Using the bullspread we get: \n",
    "\n",
    "$delta__bs(put)=delta_p(40)-delta_p(45)$\n",
    "\n",
    "$=delta_c(40)-1-delta_c(45)-1$\n",
    "\n",
    "$=delat__bs(call)$\n",
    "\n",
    "We see that it is the same in both cases."
   ]
  },
  {
   "cell_type": "markdown",
   "metadata": {},
   "source": [
    "**Chapter 13 Questions**\n",
    "\n",
    "• 13.1, 13.2, 13.9, 13.15"
   ]
  },
  {
   "cell_type": "markdown",
   "metadata": {},
   "source": [
    "**13.1** \n",
    "\n",
    "Suppose you sell a 45-strike call with 91 days to expiration. What is delta? If the\n",
    "option is on 100 shares, what investment is required for a delta-hedged portfolio?\n",
    "What is your overnight profit if the stock tomorrow is $\\$39$? What if the stock price\n",
    "is $\\$40.50$?\n",
    "\n",
    "<span style=\"color:red\">**Answer to Problem 13.1 **</span>\n"
   ]
  },
  {
   "cell_type": "code",
   "execution_count": 59,
   "metadata": {
    "collapsed": false
   },
   "outputs": [
    {
     "name": "stdout",
     "output_type": "stream",
     "text": [
      "(0.28154755570497469, 0.056330846889247124, -4.8790910115462944, 6.7411818962255179, 2.5656703161769059)\n"
     ]
    }
   ],
   "source": [
    "from scipy.stats import norm\n",
    "from math import *\n",
    "\n",
    "def Black_Scholes_Greeks_Call(S, K, r, v, T, d):\n",
    "    T_sqrt = sqrt(T)\n",
    "    d1 = (log(float(S)/K)+((r-d)+v*v/2.)*T)/(v*T_sqrt)\n",
    "    d2 = d1-v*T_sqrt\n",
    "    Delta = norm.cdf(d1)\n",
    "    Gamma = norm.pdf(d1)/(S*v*T_sqrt)\n",
    "    Theta =- (S*v*norm.pdf(d1))/(2*T_sqrt) - r*K*exp( -r*T)*norm.cdf(d2)\n",
    "    Vega = S * T_sqrt*norm.pdf(d1)\n",
    "    Rho = K*T*exp(-r*T)*norm.cdf(d2)\n",
    "    return Delta, Gamma, Theta, Vega, Rho\n",
    "\n",
    "print (Black_Scholes_Greeks_Call(40, 45, 0.08, 0.3, (91/365), 0))\n",
    "\n",
    "#Delta: partial wrt S\n",
    "#Gamma: second partial wrt S\n",
    "#Theta: partial wrt T\n",
    "#Vega: partial wrt v\n",
    "#Rho: partial wrt r"
   ]
  },
  {
   "cell_type": "code",
   "execution_count": 60,
   "metadata": {
    "collapsed": false
   },
   "outputs": [
    {
     "data": {
      "text/plain": [
       "28.154754999999998"
      ]
     },
     "execution_count": 60,
     "metadata": {},
     "output_type": "execute_result"
    }
   ],
   "source": [
    "delta = 0.28154755\n",
    "num_shares=100\n",
    "\n",
    "investmentrequirement=delta*num_shares\n",
    "investmentrequirement"
   ]
  },
  {
   "cell_type": "code",
   "execution_count": 62,
   "metadata": {
    "collapsed": false
   },
   "outputs": [
    {
     "name": "stdout",
     "output_type": "stream",
     "text": [
      "The call price via Black-Scholes is: 0.971\n"
     ]
    }
   ],
   "source": [
    "thedata = probo.MarketData(rate=.08, spot=40.0, volatility=.3, dividend=0)\n",
    "\n",
    "thecall = probo.VanillaPayoff(payoff=probo.call_payoff, strike=45, expiry=(91/365))\n",
    "\n",
    "bsengine = probo.BlackScholesPricingEngine(\"call\", probo.BlackScholesPricer)\n",
    "option3 =  probo.OptionFacade(thecall, bsengine, thedata)\n",
    "price3 = option3.price()\n",
    "print(\"The call price via Black-Scholes is: {0:.3f}\".format(price3))"
   ]
  },
  {
   "cell_type": "code",
   "execution_count": 63,
   "metadata": {
    "collapsed": false
   },
   "outputs": [
    {
     "name": "stdout",
     "output_type": "stream",
     "text": [
      "The call price via Black-Scholes is: 0.705\n"
     ]
    }
   ],
   "source": [
    "thedata = probo.MarketData(rate=.08, spot=39, volatility=.3, dividend=0)\n",
    "\n",
    "thecall = probo.VanillaPayoff(payoff=probo.call_payoff, strike=45, expiry=(90/365))\n",
    "\n",
    "bsengine = probo.BlackScholesPricingEngine(\"call\", probo.BlackScholesPricer)\n",
    "option3 =  probo.OptionFacade(thecall, bsengine, thedata)\n",
    "price3 = option3.price()\n",
    "print(\"The call price via Black-Scholes is: {0:.3f}\".format(price3))"
   ]
  },
  {
   "cell_type": "markdown",
   "metadata": {},
   "source": [
    "Loss on 28.15475 shares --- $28.15(39-40)= -28.15$\n",
    "\n",
    "Gain on Written Call Value --- ($0.971-0.705)*100 = +26.56$\n",
    "\n",
    "Interest on Call Value --- $(28.15*40)-97.01=1028.99$ ---> $[e^{(0.08/365)}-1]*1028.99=-0.2256$\n",
    "\n",
    "Loss --- $-28.15+26.56-.2256=-1.8156$"
   ]
  },
  {
   "cell_type": "code",
   "execution_count": 64,
   "metadata": {
    "collapsed": false
   },
   "outputs": [
    {
     "name": "stdout",
     "output_type": "stream",
     "text": [
      "The call price via Black-Scholes is: 1.105\n"
     ]
    }
   ],
   "source": [
    "thedata = probo.MarketData(rate=.08, spot=40.5, volatility=.3, dividend=0)\n",
    "\n",
    "thecall = probo.VanillaPayoff(payoff=probo.call_payoff, strike=45, expiry=(90/365))\n",
    "\n",
    "bsengine = probo.BlackScholesPricingEngine(\"call\", probo.BlackScholesPricer)\n",
    "option3 =  probo.OptionFacade(thecall, bsengine, thedata)\n",
    "price3 = option3.price()\n",
    "print(\"The call price via Black-Scholes is: {0:.3f}\".format(price3))"
   ]
  },
  {
   "cell_type": "markdown",
   "metadata": {},
   "source": [
    "Gain on 28.15475 shares --- $28.15(40.5-40)= +14.08$\n",
    "\n",
    "Gain on Written Call Value --- $(0.971-1.105)*100 = -13.4$\n",
    "\n",
    "Interest on Call Value --- $(28.15*40)-97.01=1028.99$ ---> $[e^{(0.08/365)}-1]*1028.99=-0.2256$\n",
    "\n",
    "Profit --- $14.08-13.40-0.2256= +0.4544$"
   ]
  },
  {
   "cell_type": "markdown",
   "metadata": {},
   "source": [
    "**13.2** \n",
    "\n",
    "Suppose you sell a 40-strike put with 91 days to expiration. What is delta? If the\n",
    "option is on 100 shares, what investment is required for a delta-hedged portfolio?\n",
    "What is your overnight profit if the stock price tomorrowis $\\$39$? What if it is $\\$40.50$?\n",
    "\n",
    "<span style=\"color:red\">**Answer to Problem 13.2**</span>\n"
   ]
  },
  {
   "cell_type": "code",
   "execution_count": 65,
   "metadata": {
    "collapsed": false
   },
   "outputs": [
    {
     "name": "stdout",
     "output_type": "stream",
     "text": [
      "(0.58240415786248245, 0.065156175400058219, -6.3325058042905109, 7.7973198396562813, 5.1148892797690078)\n"
     ]
    }
   ],
   "source": [
    "from scipy.stats import norm\n",
    "from math import *\n",
    "\n",
    "def Black_Scholes_Greeks_Call(S, K, r, v, T, d):\n",
    "    T_sqrt = sqrt(T)\n",
    "    d1 = (log(float(S)/K)+((r-d)+v*v/2.)*T)/(v*T_sqrt)\n",
    "    d2 = d1-v*T_sqrt\n",
    "    Delta = norm.cdf(d1)\n",
    "    Gamma = norm.pdf(d1)/(S*v*T_sqrt)\n",
    "    Theta =- (S*v*norm.pdf(d1))/(2*T_sqrt) - r*K*exp( -r*T)*norm.cdf(d2)\n",
    "    Vega = S * T_sqrt*norm.pdf(d1)\n",
    "    Rho = K*T*exp(-r*T)*norm.cdf(d2)\n",
    "    return Delta, Gamma, Theta, Vega, Rho\n",
    "\n",
    "print (Black_Scholes_Greeks_Call(40, 40, 0.08, 0.3, (91/365), 0))\n",
    "\n",
    "#Delta: partial wrt S\n",
    "#Gamma: second partial wrt S\n",
    "#Theta: partial wrt T\n",
    "#Vega: partial wrt v\n",
    "#Rho: partial wrt r"
   ]
  },
  {
   "cell_type": "code",
   "execution_count": 66,
   "metadata": {
    "collapsed": false
   },
   "outputs": [
    {
     "data": {
      "text/plain": [
       "58.24041578"
      ]
     },
     "execution_count": 66,
     "metadata": {},
     "output_type": "execute_result"
    }
   ],
   "source": [
    "delta = 0.5824041578\n",
    "num_shares=100\n",
    "\n",
    "investmentrequirement=delta*num_shares\n",
    "investmentrequirement"
   ]
  },
  {
   "cell_type": "code",
   "execution_count": 68,
   "metadata": {
    "collapsed": false
   },
   "outputs": [
    {
     "name": "stdout",
     "output_type": "stream",
     "text": [
      "The call price via Black-Scholes is: 2.780\n"
     ]
    }
   ],
   "source": [
    "thedata = probo.MarketData(rate=.08, spot=40.0, volatility=.3, dividend=0)\n",
    "\n",
    "thecall = probo.VanillaPayoff(payoff=probo.call_payoff, strike=40, expiry=(91/365))\n",
    "\n",
    "bsengine = probo.BlackScholesPricingEngine(\"call\", probo.BlackScholesPricer)\n",
    "option3 =  probo.OptionFacade(thecall, bsengine, thedata)\n",
    "price3 = option3.price()\n",
    "print(\"The call price via Black-Scholes is: {0:.3f}\".format(price3))"
   ]
  },
  {
   "cell_type": "code",
   "execution_count": 67,
   "metadata": {
    "collapsed": false
   },
   "outputs": [
    {
     "name": "stdout",
     "output_type": "stream",
     "text": [
      "The call price via Black-Scholes is: 2.214\n"
     ]
    }
   ],
   "source": [
    "thedata = probo.MarketData(rate=.08, spot=39.0, volatility=.3, dividend=0)\n",
    "\n",
    "thecall = probo.VanillaPayoff(payoff=probo.call_payoff, strike=40.0, expiry=(90/365))\n",
    "\n",
    "bsengine = probo.BlackScholesPricingEngine(\"call\", probo.BlackScholesPricer)\n",
    "option3 =  probo.OptionFacade(thecall, bsengine, thedata)\n",
    "price3 = option3.price()\n",
    "print(\"The call price via Black-Scholes is: {0:.3f}\".format(price3))"
   ]
  },
  {
   "cell_type": "markdown",
   "metadata": {},
   "source": [
    "Loss on 58.24041578 shares --- $58.24(39-40)= -58.24$\n",
    "\n",
    "Gain/Loss on Written Call Value --- $(2.780-2.214)*100 = +56.60$\n",
    "\n",
    "Interest on Call Value --- $(58.24*40)-278.0=2051.60$ ---> $[e^{(0.08/365)}-1]*2051.60=-0.4497$\n",
    "\n",
    "Loss --- $-58.24+53.60-0.4497=-5.0897$"
   ]
  },
  {
   "cell_type": "code",
   "execution_count": 69,
   "metadata": {
    "collapsed": false,
    "scrolled": true
   },
   "outputs": [
    {
     "name": "stdout",
     "output_type": "stream",
     "text": [
      "The call price via Black-Scholes is: 3.062\n"
     ]
    }
   ],
   "source": [
    "thedata = probo.MarketData(rate=.08, spot=40.5, volatility=.3, dividend=0)\n",
    "\n",
    "thecall = probo.VanillaPayoff(payoff=probo.call_payoff, strike=40.0, expiry=(90/365))\n",
    "\n",
    "bsengine = probo.BlackScholesPricingEngine(\"call\", probo.BlackScholesPricer)\n",
    "option3 =  probo.OptionFacade(thecall, bsengine, thedata)\n",
    "price3 = option3.price()\n",
    "print(\"The call price via Black-Scholes is: {0:.3f}\".format(price3))"
   ]
  },
  {
   "cell_type": "markdown",
   "metadata": {},
   "source": [
    "Gain on 58.24041578 shares --- $58.24(40.5-40)= +29.12$\n",
    "\n",
    "Gain/Loss on Written Call Value --- $(2.780-3.062)*100 = -28.20$\n",
    "\n",
    "Interest on Call Value --- $(58.24*40)-278.0=2051.60$ ---> $[e^{(0.08/365)}-1]*2051.60=-0.4497$\n",
    "\n",
    "Profit --- $+29.12-28.20-0.4497= +0.4703$"
   ]
  },
  {
   "cell_type": "markdown",
   "metadata": {},
   "source": [
    "**13.9** \n",
    "\n",
    "Consider a 40-strike call with 91 days to expiration. Graph the results from the\n",
    "following calculations.\n",
    "\n",
    "a. Compute the actual price with 90 days to expiration at $\\$1$ intervals from $\\$30$\n",
    "to $\\$50$.\n",
    "\n",
    "<span style=\"color:red\">**Answer to Problem 13.9 a.) **</span>\n",
    "\n",
    "a.)"
   ]
  },
  {
   "cell_type": "code",
   "execution_count": 79,
   "metadata": {
    "collapsed": false,
    "scrolled": false
   },
   "outputs": [
    {
     "name": "stdout",
     "output_type": "stream",
     "text": [
      "The call price for spot_price via Black-Scholes is: 0.073\n",
      "The call price for spot_price via Black-Scholes is: 0.127\n",
      "The call price for spot_price via Black-Scholes is: 0.208\n",
      "The call price for spot_price via Black-Scholes is: 0.326\n",
      "The call price for spot_price via Black-Scholes is: 0.489\n",
      "The call price for spot_price via Black-Scholes is: 0.706\n",
      "The call price for spot_price via Black-Scholes is: 0.982\n",
      "The call price for spot_price via Black-Scholes is: 1.324\n",
      "The call price for spot_price via Black-Scholes is: 1.734\n",
      "The call price for spot_price via Black-Scholes is: 2.214\n",
      "The call price for spot_price via Black-Scholes is: 2.763\n",
      "The call price for spot_price via Black-Scholes is: 3.377\n",
      "The call price for spot_price via Black-Scholes is: 4.052\n",
      "The call price for spot_price via Black-Scholes is: 4.782\n",
      "The call price for spot_price via Black-Scholes is: 5.561\n",
      "The call price for spot_price via Black-Scholes is: 6.383\n",
      "The call price for spot_price via Black-Scholes is: 7.240\n",
      "The call price for spot_price via Black-Scholes is: 8.129\n",
      "The call price for spot_price via Black-Scholes is: 9.042\n",
      "The call price for spot_price via Black-Scholes is: 9.975\n",
      "The call price for spot_price via Black-Scholes is: 10.924\n",
      "[[  0.07302284   0.12668387   0.20828563   0.32627467   0.48929674\n",
      "    0.70550778   0.98190192   1.32375662   1.73426808   2.21441078\n",
      "    2.76301531   3.37702657   4.05188533   4.78197048   5.56104474\n",
      "    6.38265959   7.24049058   8.12858987   9.04155515   9.9746233\n",
      "   10.92370213]\n",
      " [ 30.          31.          32.          33.          34.          35.\n",
      "   36.          37.          38.          39.          40.          41.\n",
      "   42.          43.          44.          45.          46.          47.\n",
      "   48.          49.          50.        ]]\n"
     ]
    },
    {
     "data": {
      "image/png": "[encoded data removed]",
      "text/plain": [
       "<matplotlib.figure.Figure at 0x1cd78c27e80>"
      ]
     },
     "metadata": {},
     "output_type": "display_data"
    }
   ],
   "source": [
    "import numpy as np\n",
    "import matplotlib.pyplot as plt\n",
    "array1 = np.empty((2,21))\n",
    "for spot_price in range(30,51):\n",
    "    thedata = probo.MarketData(rate=.08, spot=spot_price, volatility=.3, dividend=0)\n",
    "\n",
    "    thecall = probo.VanillaPayoff(payoff=probo.call_payoff, strike=40, expiry=(90/365))\n",
    "\n",
    "    bsengine = probo.BlackScholesPricingEngine(\"call\", probo.BlackScholesPricer)\n",
    "    option3 =  probo.OptionFacade(thecall, bsengine, thedata)\n",
    "    price3 = option3.price()\n",
    "    array1[0, spot_price - 30] = price3\n",
    "    array1[1, spot_price-30] = spot_price\n",
    "    print(\"The call price for spot_price via Black-Scholes is: {0:.3f}\".format(price3))\n",
    "print(array1)\n",
    "plt.figure(1)\n",
    "plt.plot(array1[1], array1[0],'r.-')\n",
    "plt.show()"
   ]
  },
  {
   "cell_type": "markdown",
   "metadata": {},
   "source": [
    "b. Compute the estimated price with 90 days to expiration using a delta approximation.\n",
    "\n",
    "<span style=\"color:red\">**Answer to Problem 13.9 b.) **</span>\n",
    "\n",
    "b.)"
   ]
  },
  {
   "cell_type": "code",
   "execution_count": 143,
   "metadata": {
    "collapsed": false,
    "scrolled": false
   },
   "outputs": [
    {
     "name": "stdout",
     "output_type": "stream",
     "text": [
      "[[  3.000e+01   3.100e+01   3.200e+01   3.300e+01   3.400e+01   3.500e+01\n",
      "    3.600e+01   3.700e+01   3.800e+01   3.900e+01   4.000e+01   4.100e+01\n",
      "    4.200e+01   4.300e+01   4.400e+01   4.500e+01   4.600e+01   4.700e+01\n",
      "    4.800e+01   4.900e+01   5.000e+01]\n",
      " [  4.236e-75   2.124e-59   5.382e-46   1.087e-34   2.634e-25   1.108e-17\n",
      "    1.132e-11   3.846e-07   5.878e-04   5.586e-02   5.087e-01   9.446e-01\n",
      "    9.991e-01   1.000e+00   1.000e+00   1.000e+00   1.000e+00   1.000e+00\n",
      "    1.000e+00   1.000e+00   1.000e+00]\n",
      " [ -3.044e+00  -2.462e+00  -1.879e+00  -1.297e+00  -7.144e-01  -1.320e-01\n",
      "    4.504e-01   1.033e+00   1.615e+00   2.198e+00   2.780e+00   3.362e+00\n",
      "    3.945e+00   4.527e+00   5.110e+00   5.692e+00   6.274e+00   6.857e+00\n",
      "    7.439e+00   8.022e+00   8.604e+00]\n",
      " [  7.302e-02   1.267e-01   2.083e-01   3.263e-01   4.893e-01   7.055e-01\n",
      "    9.819e-01   1.324e+00   1.734e+00   2.214e+00   2.763e+00   3.377e+00\n",
      "    4.052e+00   4.782e+00   5.561e+00   6.383e+00   7.240e+00   8.129e+00\n",
      "    9.042e+00   9.975e+00   1.092e+01]]\n"
     ]
    },
    {
     "data": {
      "image/png": "[encoded data removed]",
      "text/plain": [
       "<matplotlib.figure.Figure at 0x1cd79de94a8>"
      ]
     },
     "metadata": {},
     "output_type": "display_data"
    }
   ],
   "source": [
    "import numpy as np\n",
    "import matplotlib.pyplot as plt\n",
    "array1 = np.empty((4,21))\n",
    "def BlackScholesDelta(spot=spot_price, t=(90/365), strike=40, expiry=(91/365), volatility=0.3, rate=0.08, dividend=0):\n",
    "    tau = expiry - t\n",
    "    d1 = (np.log(spot/strike) + (rate - dividend + 0.5 * volatility * volatility) * tau) / (volatility * np.sqrt(tau))\n",
    "    delta = np.exp(-dividend * tau) * norm.cdf(d1) \n",
    "    return delta\n",
    "\n",
    "\n",
    "for spot_price in range(30,51):\n",
    "    delta = BlackScholesDelta(spot_price)\n",
    "    thedata = probo.MarketData(rate=.08, spot=spot_price, volatility=.3, dividend=0)\n",
    "\n",
    "    thecall = probo.VanillaPayoff(payoff=probo.call_payoff, strike=40, expiry=(90/365))\n",
    "\n",
    "    bsengine = probo.BlackScholesPricingEngine(\"call\", probo.BlackScholesPricer)\n",
    "    option3 =  probo.OptionFacade(thecall, bsengine, thedata)\n",
    "    price3 = option3.price()\n",
    "    \n",
    "    array1[0, spot_price - 30] = spot_price\n",
    "    array1[1, (spot_price - 30)] = delta\n",
    "    array1[2, (spot_price-30)] = 2.780-(40-spot_price)*.582404\n",
    "    array1[3, spot_price -30] = price3\n",
    "    \n",
    "np.set_printoptions(precision=3, suppress=False)\n",
    "print(array1)\n",
    "plt.figure(1)\n",
    "plt.plot(array1[0], array1[2],'r.-')\n",
    "plt.show()"
   ]
  }
 ],
 "metadata": {
  "kernelspec": {
   "display_name": "Python [default]",
   "language": "python",
   "name": "python3"
  },
  "language_info": {
   "codemirror_mode": {
    "name": "ipython",
    "version": 3
   },
   "file_extension": ".py",
   "mimetype": "text/x-python",
   "name": "python",
   "nbconvert_exporter": "python",
   "pygments_lexer": "ipython3",
   "version": "3.5.2"
  }
 },
 "nbformat": 4,
 "nbformat_minor": 1
}
